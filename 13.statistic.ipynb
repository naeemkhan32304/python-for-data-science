{
 "cells": [
  {
   "cell_type": "code",
   "execution_count": 1,
   "metadata": {},
   "outputs": [],
   "source": [
    "import plotly.express as px\n",
    "import pandas as pd\n",
    "import numpy as np\n",
    "import os\n",
    "import matplotlib.pyplot as plt\n",
    "import seaborn as sns"
   ]
  },
  {
   "cell_type": "markdown",
   "metadata": {},
   "source": [
    "## statistics outline\n",
    "- Descriptive statisctics\n",
    "- Data Visuliation\n",
    "- Probablity Distribution\n",
    "- Hypothesis testing\n",
    "- Regression Analysis"
   ]
  },
  {
   "cell_type": "markdown",
   "metadata": {},
   "source": [
    "### Pakacges we will cover and covered\n",
    "\n",
    "> pandas (Data Structures and 2D Dataframe)\\ numpu (Arrays and matrices)\\ scipy (Optimization and solving diffrential equation)\\ Matplotlib (Plots and graphs and figures)\\ Seaborn (Heat maps and time series and oter plots)\n",
    "\n",
    "##### We will discuss it later\\"
   ]
  },
  {
   "cell_type": "markdown",
   "metadata": {},
   "source": [
    "### Scikit Learn\n",
    "> ML, Regression, classification, clustring analysis etc"
   ]
  },
  {
   "cell_type": "markdown",
   "metadata": {},
   "source": [
    "### Stats models\n",
    "> Exploredata and estimation of statistical modelsand perform statistical analysis"
   ]
  },
  {
   "cell_type": "markdown",
   "metadata": {},
   "source": [
    "## Statistics\n",
    "> Statisctis is a collection of methods and collecting, displuing, analyzing and drawing conclusion from data."
   ]
  },
  {
   "cell_type": "markdown",
   "metadata": {},
   "source": [
    "### Statistics is everywhere\\\n",
    "- Incom of Pak avg (Average)\n",
    "- Highest score in PSL (MAX)\n",
    "- Fastest Bowler (MAX)\n",
    "- Lowest runs (MIN)\n",
    "- Female Percentage of teacher in pakistan (%)\n",
    "- Rain forcast (Likelihood)\n",
    "- Dollar range (Variance)\n",
    "- Hostel male are more exepensive than female in (t_test)\n",
    "- Best from this place in terms of jokes, culture etc is (ANOVA)"
   ]
  },
  {
   "cell_type": "markdown",
   "metadata": {},
   "source": [
    "### Type of Data\n",
    "#### Type-1 Data\n",
    "1. Cross Sectional (Collect at one point aj kitny log video dek rahy hy? kind of)\n",
    "\n",
    "2. Time Series (Data Collected over different TIme points e.g covid)"
   ]
  },
  {
   "cell_type": "markdown",
   "metadata": {},
   "source": [
    "### Type-2 Data\n",
    "1. Univariate (Data contain a single variable to measure entity e.g plnat hight in time stamp e.g kitna khana katy hy jis say wazan bhar raha hy)\n",
    "   \n",
    "2. Multi Variate (Data contain more variable to measure something e.g plant hight, fertilizer amount irrigation)"
   ]
  },
  {
   "cell_type": "markdown",
   "metadata": {},
   "source": [
    "### Variable Types-1\n",
    "#### categorical (Nominal)\n",
    "> - Binominal (True/False) no quantitative relationship is given\n",
    "> - Multinomonal (Travel Choices) e.g hue col in sns"
   ]
  },
  {
   "cell_type": "markdown",
   "metadata": {},
   "source": [
    "### Variable Types-2\n",
    "#### categorical (Nominal)\n",
    "> - Ordinal Variable Data ranked or ordered e.g mery pas kitnyu phone hy? no fix limit size etc ranking in simple word and you have to search your own"
   ]
  },
  {
   "cell_type": "markdown",
   "metadata": {},
   "source": [
    "### Variable Types-3\n",
    "#### Ratio Data\n",
    "> - Data have a natral zero e.g aj zaida mall bika hy kal ki nisbat and economic data\n",
    "> - or measurement in unit and ratios are continous note: You will not mix with catogorical varible e.g kal sale nae hoe aj hoe hy so don't mix it with continous ratio data is meri hieht tm say zaida hy"
   ]
  },
  {
   "cell_type": "markdown",
   "metadata": {},
   "source": [
    "### Variable Types-4\n",
    "#### Interval data or Variables Data\n",
    "> - Ordered and charaterized data e.g is june may grami zaida hy? 2020 ki nisbat\n",
    "\n",
    "Rarios are meaning less (50 degree is not double hot of 25 degere diffrence are meaningful)\n",
    "\n",
    "we can not say about diffrence between double or triple you can google it for more ifo"
   ]
  },
  {
   "cell_type": "markdown",
   "metadata": {},
   "source": [
    "### Meaure of Central Tendency\n",
    "### Mean, Meadian and Mode\n",
    "> #### Population vs Sample\n",
    "> - Population research has more power (less error chances covid vaccine e.g)\n",
    "> - Samples are used to reduced the cost of data collection (less accurate less powerfull )"
   ]
  },
  {
   "cell_type": "markdown",
   "metadata": {},
   "source": [
    "### Notion and Terms in Statistics\n",
    "> N = size of population n = size of sample E = sum"
   ]
  },
  {
   "cell_type": "markdown",
   "metadata": {},
   "source": [
    "### Notion and Terms in Statistics\n",
    "> measurement (chaces of servival)\\ sample\\ parameter (no and summarize of the poplation)\\ statistic (mean modian and mode)\\ Desciptive Statistics (describing analysis of data)\\ Inferential Statistics (darwing conclusion about a population based on info contained in a sample taken from that \\poplation) Qualititve Data (measurement for which there is no natural numerical scale but which conssit of attribute that arise from a natural numerical scale)\\ Quantitive Data (numerical measurement that arise from a natural numerical scale\\ Mean (is the sim divied by the no of observation average)\\ Meaninful (for inteval and ratio data) Outliers (Change the means of a data therefore median is usefull)\\ Median (is middl eno of any sorted ascending or descending order of list)\\ (describing analysis of data)\\ Mode (The value that occures most frewuently e.g 18 year age most common in a class) (describing analysis of data)\\"
   ]
  },
  {
   "cell_type": "code",
   "execution_count": 2,
   "metadata": {},
   "outputs": [
    {
     "data": {
      "text/html": [
       "<div>\n",
       "<style scoped>\n",
       "    .dataframe tbody tr th:only-of-type {\n",
       "        vertical-align: middle;\n",
       "    }\n",
       "\n",
       "    .dataframe tbody tr th {\n",
       "        vertical-align: top;\n",
       "    }\n",
       "\n",
       "    .dataframe thead th {\n",
       "        text-align: right;\n",
       "    }\n",
       "</style>\n",
       "<table border=\"1\" class=\"dataframe\">\n",
       "  <thead>\n",
       "    <tr style=\"text-align: right;\">\n",
       "      <th></th>\n",
       "      <th>sepal_length</th>\n",
       "      <th>sepal_width</th>\n",
       "      <th>petal_length</th>\n",
       "      <th>petal_width</th>\n",
       "    </tr>\n",
       "  </thead>\n",
       "  <tbody>\n",
       "    <tr>\n",
       "      <th>count</th>\n",
       "      <td>150.000000</td>\n",
       "      <td>150.000000</td>\n",
       "      <td>150.000000</td>\n",
       "      <td>150.000000</td>\n",
       "    </tr>\n",
       "    <tr>\n",
       "      <th>mean</th>\n",
       "      <td>5.843333</td>\n",
       "      <td>3.057333</td>\n",
       "      <td>3.758000</td>\n",
       "      <td>1.199333</td>\n",
       "    </tr>\n",
       "    <tr>\n",
       "      <th>std</th>\n",
       "      <td>0.828066</td>\n",
       "      <td>0.435866</td>\n",
       "      <td>1.765298</td>\n",
       "      <td>0.762238</td>\n",
       "    </tr>\n",
       "    <tr>\n",
       "      <th>min</th>\n",
       "      <td>4.300000</td>\n",
       "      <td>2.000000</td>\n",
       "      <td>1.000000</td>\n",
       "      <td>0.100000</td>\n",
       "    </tr>\n",
       "    <tr>\n",
       "      <th>25%</th>\n",
       "      <td>5.100000</td>\n",
       "      <td>2.800000</td>\n",
       "      <td>1.600000</td>\n",
       "      <td>0.300000</td>\n",
       "    </tr>\n",
       "    <tr>\n",
       "      <th>50%</th>\n",
       "      <td>5.800000</td>\n",
       "      <td>3.000000</td>\n",
       "      <td>4.350000</td>\n",
       "      <td>1.300000</td>\n",
       "    </tr>\n",
       "    <tr>\n",
       "      <th>75%</th>\n",
       "      <td>6.400000</td>\n",
       "      <td>3.300000</td>\n",
       "      <td>5.100000</td>\n",
       "      <td>1.800000</td>\n",
       "    </tr>\n",
       "    <tr>\n",
       "      <th>max</th>\n",
       "      <td>7.900000</td>\n",
       "      <td>4.400000</td>\n",
       "      <td>6.900000</td>\n",
       "      <td>2.500000</td>\n",
       "    </tr>\n",
       "  </tbody>\n",
       "</table>\n",
       "</div>"
      ],
      "text/plain": [
       "       sepal_length  sepal_width  petal_length  petal_width\n",
       "count    150.000000   150.000000    150.000000   150.000000\n",
       "mean       5.843333     3.057333      3.758000     1.199333\n",
       "std        0.828066     0.435866      1.765298     0.762238\n",
       "min        4.300000     2.000000      1.000000     0.100000\n",
       "25%        5.100000     2.800000      1.600000     0.300000\n",
       "50%        5.800000     3.000000      4.350000     1.300000\n",
       "75%        6.400000     3.300000      5.100000     1.800000\n",
       "max        7.900000     4.400000      6.900000     2.500000"
      ]
     },
     "execution_count": 2,
     "metadata": {},
     "output_type": "execute_result"
    }
   ],
   "source": [
    "df = sns.load_dataset('iris')\n",
    "df.describe()"
   ]
  },
  {
   "cell_type": "markdown",
   "metadata": {},
   "source": [
    "### Measure of Despersion\n",
    "How much data spread around mean of the data. (the dispurstion is called standard deviation or standard error or varinace or bell curve)\n",
    "\n",
    "e.g range = min -to- max 123456789123456789 (1 is min last 9 is max)"
   ]
  },
  {
   "cell_type": "markdown",
   "metadata": {},
   "source": [
    "### SD and Mean\n",
    "Data from 100 shopes is ramdan first calculate mean of 2 karhye abd biryani mean 1= 30.1 mean 2= 30.2\n",
    "\n",
    "sd = 4.47 sd = 10.99\n",
    "\n",
    "the central tendency will be mean and disperse SD checking in a data"
   ]
  },
  {
   "cell_type": "markdown",
   "metadata": {},
   "source": [
    "### SD and Mean Reliablity\n",
    "Mean give us small picture\n",
    "\n",
    "Means are incomplete withour dispersion (SD)\n",
    "\n",
    "Mean with a SD is more usefull than only mean by itself\n",
    "\n"
   ]
  },
  {
   "cell_type": "markdown",
   "metadata": {},
   "source": [
    "### Fundamental of Visuliztion\n",
    "#### Variable Type Matters\n",
    "Type of visulalization depends on the variable type\n",
    "\n",
    "1. Catergorical Var\n",
    "    - Count plot type\n",
    "    - Qualitative variable\n",
    "    - Male vs female\n",
    "    - T/F\n",
    "    - 0 vs 1\n",
    "    - Yes vs No\n",
    "2. Contiunous Variable\n",
    "    - Scater plot\n",
    "    - Quantitative Var\n",
    "    - Statistical Proportion\n",
    "    - Means and their comparison\n",
    "    - e.g amount no, age, plant height\n",
    "    - \n",
    "__Chart Suggestion A thought starter from the exterme Presentation Method (Created by DR Andrew ALbela)__"
   ]
  },
  {
   "cell_type": "markdown",
   "metadata": {},
   "source": [
    "## Notation in Statistic"
   ]
  },
  {
   "cell_type": "markdown",
   "metadata": {},
   "source": [
    "### Capitalization\n",
    "In general, capital letters refer to population attributes (i.e., parameters); and lower-case letters refer to sample attributes (i.e., statistics). For example,\n",
    "\n",
    "- P refers to a population proportion; and p, to a sample proportion.\n",
    "- X refers to a set of population elements; and x, to a set of sample elements.\n",
    "- N refers to population size; and n, to sample size.\n",
    "### Greek vs. Roman Letters\n",
    "Like capital letters, Greek letters refer to population attributes. Their sample counterparts, however, are usually Roman letters. For example,\n",
    "\n",
    "- μ refers to a population mean; and x, to a sample mean.\n",
    "- σ refers to the standard deviation of a population; and s, to the standard deviation of a sample."
   ]
  },
  {
   "cell_type": "markdown",
   "metadata": {},
   "source": [
    "### Population Parameters\n",
    "By convention, specific symbols represent certain population parameters. For example,\n",
    "\n",
    "- μ refers to a population mean.\n",
    "- σ refers to the standard deviation of a population.\n",
    "- σ2 refers to the variance of a population.\n",
    "- P refers to the proportion of population elements that have a particular attribute.\n",
    "- Q refers to the proportion of population elements that do not have a particular attribute, so Q = 1 - P.\n",
    "- ρ is the population correlation coefficient, based on all of the elements from a population.\n",
    "- N is the number of elements in a population."
   ]
  },
  {
   "cell_type": "markdown",
   "metadata": {},
   "source": [
    "### Sample Statistics\n",
    "By convention, specific symbols represent certain sample statistics. For example,\n",
    "\n",
    "- x refers to a sample mean.\n",
    "- s refers to the standard deviation of a sample.\n",
    "- s2 refers to the variance of a sample.\n",
    "- p refers to the proportion of sample elements that have a particular attribute.\n",
    "- q refers to the proportion of sample elements that do not have a particular attribute, so q = 1 - p.\n",
    "- r is the sample correlation coefficient, based on all of the elements from a sample.\n",
    "- n is the number of elements in a sample.\n",
    "  \n",
    "### Simple Linear Regression\n",
    "- Β0 is the intercept constant in a population regression line.\n",
    "- Β1 is the regression coefficient (i.e., slope) in a population regression line.\n",
    "- R2 refers to the coefficient of determination.\n",
    "- b0 is the intercept constant in a sample regression line.\n",
    "- b1 refers to the regression coefficient in a sample regression line (i.e., the slope).\n",
    "- sb1 refers to the refers to the standard error of the slope of a regression line."
   ]
  },
  {
   "cell_type": "markdown",
   "metadata": {},
   "source": [
    "### Probability\n",
    "- P(A) refers to the probability that event A will occur.\n",
    "- P(A|B) refers to the conditional probability that event A occurs, given that event B has occurred.\n",
    "- P(A') refers to the probability of the complement of event A.\n",
    "- P(A ∩ B) refers to the probability of the intersection of events A and B.\n",
    "- P(A ∪ B) refers to the probability of the union of events A and B.\n",
    "- E(X) refers to the expected value of random variable X.\n",
    "- b(x; n, P) refers to binomial probability.\n",
    "- b*(x; n, P) refers to negative binomial probability.\n",
    "- g(x; P) refers to geometric probability.\n",
    "- h(x; N, n, k) refers to hypergeometric probability.\n",
    "\n",
    "\n",
    "### Counting\n",
    "- n! refers to the factorial value of n.\n",
    "- nPr refers to the number of permutations of n things taken r at a time.\n",
    "- nCr refers to the number of combinations of n things taken r at a time.\n",
    "  \n",
    "### Set Theory\n",
    "- A ∩ B refers to the intersection of events A and B.\n",
    "- A ∪ B refers to the union of events A and B.\n",
    "- {A, B, C} refers to the set of elements consisting of A, B, and C.\n",
    "- {∅} refers to the null set."
   ]
  },
  {
   "cell_type": "markdown",
   "metadata": {},
   "source": [
    "### Hypothesis Testing\n",
    "- Ho refers to a null hypothesis.\n",
    "- H1 or Ha refers to an alternative hypothesis.\n",
    "- α refers to the significance level.\n",
    "- Β refers to the probability of committing a Type II error.\n",
    "\n",
    "### Random Variables\n",
    "- Z or z refers to a standardized score, also known as a z-score.\n",
    "- zα refers to the standardized score that has a cumulative probability equal to 1 - α.\n",
    "- tα refers to the t statistic that has a cumulative probability equal to 1 - α.\n",
    "- fα refers to a f statistic that has a cumulative probability equal to 1 - α.\n",
    "- fα(v1, v2) is a f statistic with a cumulative probability of 1 - α, and v1 and v2 degrees of freedom.\n",
    "- Χ2 refers to a chi-square statistic."
   ]
  },
  {
   "cell_type": "markdown",
   "metadata": {},
   "source": [
    "### Special Symbols\n",
    "Throughout the site, certain symbols have special meanings. For example,\n",
    "\n",
    "- Σ is the summation symbol, used to compute sums over a range of values.\n",
    "- Σx or Σxi refers to the sum of a set of n observations. Thus, Σxi = Σx = x1 + x2 + . . . + xn.\n",
    "- sqrt refers to the square root function. Thus, sqrt(4) = 2 and sqrt(25) = 5.\n",
    "- Var(X) refers to the variance of the random variable X.\n",
    "- SD(X) refers to the standard deviation of the random variable X.\n",
    "- SE refers to the standard error of a statistic.\n",
    "- ME refers to the margin of error.\n",
    "- DF refers to the degrees of freedom."
   ]
  },
  {
   "cell_type": "markdown",
   "metadata": {},
   "source": []
  }
 ],
 "metadata": {
  "interpreter": {
   "hash": "b3ba2566441a7c06988d0923437866b63cedc61552a5af99d1f4fb67d367b25f"
  },
  "kernelspec": {
   "display_name": "Python 3.9.7 ('base')",
   "language": "python",
   "name": "python3"
  },
  "language_info": {
   "codemirror_mode": {
    "name": "ipython",
    "version": 3
   },
   "file_extension": ".py",
   "mimetype": "text/x-python",
   "name": "python",
   "nbconvert_exporter": "python",
   "pygments_lexer": "ipython3",
   "version": "3.9.7"
  },
  "orig_nbformat": 4
 },
 "nbformat": 4,
 "nbformat_minor": 2
}
